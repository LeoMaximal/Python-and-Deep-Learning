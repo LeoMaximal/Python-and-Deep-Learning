{
 "metadata": {
  "language_info": {
   "codemirror_mode": {
    "name": "ipython",
    "version": 3
   },
   "file_extension": ".py",
   "mimetype": "text/x-python",
   "name": "python",
   "nbconvert_exporter": "python",
   "pygments_lexer": "ipython3",
   "version": "3.9.1"
  },
  "orig_nbformat": 2,
  "kernelspec": {
   "name": "python3",
   "display_name": "Python 3.9.1 64-bit",
   "metadata": {
    "interpreter": {
     "hash": "aee8b7b246df8f9039afb4144a1f6fd8d2ca17a180786b69acc140d282b71a49"
    }
   }
  }
 },
 "nbformat": 4,
 "nbformat_minor": 2,
 "cells": [
  {
   "cell_type": "code",
   "execution_count": null,
   "metadata": {},
   "outputs": [],
   "source": [
    "import requests\n",
    "import json\n",
    "r=requests.get('https://de.wikipedia.org/w/api.php?action=query&format=json&list=mostviewed',\n",
    "proxies={'https': 'http://127.0.0.1:1087', 'http': 'http://127.0.0.1:1087'})\n",
    "js=json.loads(r.text)\n",
    "print(js['query']['mostviewed'])"
   ]
  },
  {
   "cell_type": "code",
   "execution_count": null,
   "metadata": {},
   "outputs": [],
   "source": [
    "import json\n",
    "import requests\n",
    "url = 'https://en.wikipedia.org/w/api.php?action=query&format=json&list=random&rnlimit=10'\n",
    "r = requests.get(url, proxies={'https': 'http://127.0.0.1:1087', 'http': 'http://127.0.0.1:1087'})\n",
    "js = json.loads(r.text)\n",
    "print(js['query'])"
   ]
  },
  {
   "cell_type": "code",
   "execution_count": null,
   "metadata": {},
   "outputs": [],
   "source": [
    "import json\n",
    "import requests\n",
    "title='Original (Leftfield song)'\n",
    "url='https://en.wikipedia.org/w/api.php?action=query&format=json&prop=description&titles='+title.replace(' ','_')\n",
    "r = requests.get(url, proxies={'https': 'http://127.0.0.1:1087', 'http': 'http://127.0.0.1:1087'})\n",
    "js = json.loads(r.text)\n",
    "info=js['query']['pages']\n",
    "print(info)"
   ]
  },
  {
   "cell_type": "code",
   "execution_count": null,
   "metadata": {},
   "outputs": [],
   "source": []
  }
 ]
}