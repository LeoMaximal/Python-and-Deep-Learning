{
 "metadata": {
  "language_info": {
   "codemirror_mode": {
    "name": "ipython",
    "version": 3
   },
   "file_extension": ".py",
   "mimetype": "text/x-python",
   "name": "python",
   "nbconvert_exporter": "python",
   "pygments_lexer": "ipython3",
   "version": "3.9.1-final"
  },
  "orig_nbformat": 2,
  "kernelspec": {
   "name": "python3",
   "display_name": "Python 3.9.1 64-bit",
   "metadata": {
    "interpreter": {
     "hash": "aee8b7b246df8f9039afb4144a1f6fd8d2ca17a180786b69acc140d282b71a49"
    }
   }
  }
 },
 "nbformat": 4,
 "nbformat_minor": 2,
 "cells": [
  {
   "cell_type": "code",
   "execution_count": null,
   "metadata": {},
   "outputs": [],
   "source": [
    "import requests\n",
    "import json\n",
    "r=requests.get('https://en.wikipedia.org/w/api.php?action=query&format=json&list=mostviewed&pvimlimit=15',\n",
    "proxies={'https': 'http://127.0.0.1:1087', 'http': 'http://127.0.0.1:1087'})\n",
    "js=json.loads(r.text)\n",
    "query=js['query']['mostviewed']\n",
    "print(query)"
   ]
  },
  {
   "cell_type": "code",
   "execution_count": null,
   "metadata": {},
   "outputs": [],
   "source": [
    "import json\n",
    "import requests\n",
    "from HW_20210411.utils import *\n",
    "url = 'https://en.wikipedia.org/w/api.php?action=query&format=json&list=random&rnlimit=50'\n",
    "r = requests.get(url, proxies={'https': 'http://127.0.0.1:1087', 'http': 'http://127.0.0.1:1087'})\n",
    "js = json.loads(r.text)\n",
    "for item in js['query']['random']:\n",
    "    if item['ns']==0:\n",
    "        print(item)\n",
    "for item in js['query']['random']:\n",
    "    if item['ns']==0:\n",
    "        print(item['title'],get_descript(item['id'],item['title'].replace(' ','_')))"
   ]
  },
  {
   "cell_type": "code",
   "execution_count": null,
   "metadata": {},
   "outputs": [],
   "source": [
    "import json\n",
    "import requests\n",
    "title='Sommerzeit'\n",
    "#url1='https://de.wikipedia.org/w/api.php?action=query&list=pageswithprop&pwppropname'+title.replace(' ','_')+'&pwpprop=ids'\n",
    "#r = requests.get(url2, proxies={'https': 'http://127.0.0.1:1087', 'http': 'http://127.0.0.1:1087'})\n",
    "#print(r.text)\n",
    "url2='https://de.wikipedia.org/w/api.php?action=query&format=json&prop=description&titles='+title.replace(' ','_')+'&descprefersource=local'\n",
    "r = requests.get(url2, proxies={'https': 'http://127.0.0.1:1087', 'http': 'http://127.0.0.1:1087'})\n",
    "js = json.loads(r.text)\n",
    "info=js['query']['pages']\n",
    "for item in info:\n",
    "    id=item\n",
    "print(info[item]['description'])"
   ]
  },
  {
   "cell_type": "code",
   "execution_count": null,
   "metadata": {},
   "outputs": [],
   "source": []
  }
 ]
}